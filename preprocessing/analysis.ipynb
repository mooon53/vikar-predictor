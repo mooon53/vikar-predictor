{
 "cells": [
  {
   "cell_type": "code",
   "execution_count": null,
   "metadata": {},
   "outputs": [],
   "source": [
    "import pandas as pd\n",
    "import seaborn as sns\n",
    "import matplotlib.pyplot as plt\n",
    "import numpy as np"
   ]
  },
  {
   "cell_type": "code",
   "execution_count": null,
   "metadata": {},
   "outputs": [],
   "source": [
    "df =pd.read_csv('../data/vikar_preprocessed.csv', low_memory=False)\n",
    "df.head()"
   ]
  },
  {
   "cell_type": "markdown",
   "metadata": {},
   "source": [
    "1. Exploratory Data Analysis (EDA)\n",
    "Objective: Gain insights into the data, identify patterns, and understand feature distributions.\n",
    "\n",
    "Descriptive Statistics:\n",
    "Compute summary statistics (mean, median, standard deviation) for numerical features like Age, Total, and Rental_Duration_Days.\n",
    "Visualizations:\n",
    "Histograms for Total, Age, and Rental_Duration_Days to understand their distributions.\n",
    "Box Plots to detect outliers and compare distributions of Total across different Vehicle types or Driving Area.\n",
    "Pair Plots to visualize relationships between numerical features."
   ]
  },
  {
   "cell_type": "markdown",
   "metadata": {},
   "source": [
    "2. Correlation Matrix:\n",
    "Compute and visualize the correlation matrix to see how features like Total, Age, and Rental_Duration_Days are related."
   ]
  },
  {
   "cell_type": "markdown",
   "metadata": {},
   "source": [
    "3. Feature Engineering\n",
    "Convert Categorical Variables: Use one-hot encoding for categorical features like Vehicle, Pickup_Location, and Country.\n"
   ]
  }
 ],
 "metadata": {
  "kernelspec": {
   "display_name": "myenv",
   "language": "python",
   "name": "python3"
  },
  "language_info": {
   "codemirror_mode": {
    "name": "ipython",
    "version": 3
   },
   "file_extension": ".py",
   "mimetype": "text/x-python",
   "name": "python",
   "nbconvert_exporter": "python",
   "pygments_lexer": "ipython3",
   "version": "3.9.19"
  }
 },
 "nbformat": 4,
 "nbformat_minor": 2
}
