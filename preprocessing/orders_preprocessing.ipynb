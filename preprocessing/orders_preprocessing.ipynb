{
 "cells": [
  {
   "cell_type": "code",
   "execution_count": 1,
   "metadata": {},
   "outputs": [],
   "source": [
    "import numpy as np\n",
    "import pandas as pd\n",
    "import seaborn as sns\n",
    "import matplotlib.pyplot as plt\n"
   ]
  },
  {
   "cell_type": "markdown",
   "metadata": {},
   "source": [
    "# Import dataset"
   ]
  },
  {
   "cell_type": "code",
   "execution_count": 2,
   "metadata": {},
   "outputs": [
    {
     "data": {
      "text/html": [
       "<div>\n",
       "<style scoped>\n",
       "    .dataframe tbody tr th:only-of-type {\n",
       "        vertical-align: middle;\n",
       "    }\n",
       "\n",
       "    .dataframe tbody tr th {\n",
       "        vertical-align: top;\n",
       "    }\n",
       "\n",
       "    .dataframe thead th {\n",
       "        text-align: right;\n",
       "    }\n",
       "</style>\n",
       "<table border=\"1\" class=\"dataframe\">\n",
       "  <thead>\n",
       "    <tr style=\"text-align: right;\">\n",
       "      <th></th>\n",
       "      <th>ID</th>\n",
       "      <th>Pickup_Date</th>\n",
       "      <th>Pickup_Time</th>\n",
       "      <th>DropOff_Date</th>\n",
       "      <th>DropOff_Time</th>\n",
       "      <th>Vehicle</th>\n",
       "      <th>Pickup_Location</th>\n",
       "      <th>DropOff_Location</th>\n",
       "      <th>Name</th>\n",
       "      <th>Email</th>\n",
       "      <th>Phone</th>\n",
       "      <th>Flight_or_Hotel</th>\n",
       "      <th>Age</th>\n",
       "      <th>Driving Area</th>\n",
       "      <th>Total</th>\n",
       "    </tr>\n",
       "  </thead>\n",
       "  <tbody>\n",
       "    <tr>\n",
       "      <th>0</th>\n",
       "      <td>51</td>\n",
       "      <td>07/08/2023</td>\n",
       "      <td>12:00</td>\n",
       "      <td>12/08/2023</td>\n",
       "      <td>12:00</td>\n",
       "      <td>Honda HR/V RS HYBRID 2023</td>\n",
       "      <td>NaN</td>\n",
       "      <td>NaN</td>\n",
       "      <td>Nadiia Malanchii</td>\n",
       "      <td>NaN</td>\n",
       "      <td>6.661916e+10</td>\n",
       "      <td>NaN</td>\n",
       "      <td>35.0</td>\n",
       "      <td>NaN</td>\n",
       "      <td>7000.00</td>\n",
       "    </tr>\n",
       "    <tr>\n",
       "      <th>1</th>\n",
       "      <td>52</td>\n",
       "      <td>12/08/2023</td>\n",
       "      <td>14:00</td>\n",
       "      <td>17/08/2023</td>\n",
       "      <td>14:00</td>\n",
       "      <td>Toyota Yaris Ativ 2023</td>\n",
       "      <td>NaN</td>\n",
       "      <td>NaN</td>\n",
       "      <td>Nadiia Malanchii</td>\n",
       "      <td>NaN</td>\n",
       "      <td>6.661916e+10</td>\n",
       "      <td>NaN</td>\n",
       "      <td>NaN</td>\n",
       "      <td>NaN</td>\n",
       "      <td>3500.00</td>\n",
       "    </tr>\n",
       "    <tr>\n",
       "      <th>2</th>\n",
       "      <td>53</td>\n",
       "      <td>19/08/2023</td>\n",
       "      <td>14:00</td>\n",
       "      <td>23/08/2023</td>\n",
       "      <td>08:00</td>\n",
       "      <td>Toyota Veloz 2023</td>\n",
       "      <td>Rawai</td>\n",
       "      <td>Rawai</td>\n",
       "      <td>Ankit Nayar</td>\n",
       "      <td>Nayar.ankit@gmail.com</td>\n",
       "      <td>9.199234e+11</td>\n",
       "      <td>Soi Kokyang, Tambon Rawai, Chang Wat Phuket 83...</td>\n",
       "      <td>35.0</td>\n",
       "      <td>NaN</td>\n",
       "      <td>5080.00</td>\n",
       "    </tr>\n",
       "    <tr>\n",
       "      <th>3</th>\n",
       "      <td>54</td>\n",
       "      <td>24/08/2023</td>\n",
       "      <td>11:00</td>\n",
       "      <td>06/09/2023</td>\n",
       "      <td>11:00</td>\n",
       "      <td>Toyota Veloz 2023</td>\n",
       "      <td>Rawai</td>\n",
       "      <td>Rawai</td>\n",
       "      <td>Dawid Śremski</td>\n",
       "      <td>dawid.sremski@icloud.com</td>\n",
       "      <td>4.850402e+10</td>\n",
       "      <td>12 Soi Yanuy Villa, Tambon Rawai, Chang Wat Ph...</td>\n",
       "      <td>31.0</td>\n",
       "      <td>NaN</td>\n",
       "      <td>13480.00</td>\n",
       "    </tr>\n",
       "    <tr>\n",
       "      <th>4</th>\n",
       "      <td>55</td>\n",
       "      <td>22/09/2023</td>\n",
       "      <td>22:00</td>\n",
       "      <td>20/10/2023</td>\n",
       "      <td>19:00</td>\n",
       "      <td>Toyota Yaris Ativ 2023</td>\n",
       "      <td>Phuket Airport</td>\n",
       "      <td>Phuket Airport</td>\n",
       "      <td>Roman Loginov</td>\n",
       "      <td>qwertys40@yandex.ru</td>\n",
       "      <td>3.752592e+11</td>\n",
       "      <td>MU260</td>\n",
       "      <td>42.0</td>\n",
       "      <td>NaN</td>\n",
       "      <td>18920.00</td>\n",
       "    </tr>\n",
       "  </tbody>\n",
       "</table>\n",
       "</div>"
      ],
      "text/plain": [
       "   ID Pickup_Date Pickup_Time DropOff_Date DropOff_Time  \\\n",
       "0  51  07/08/2023       12:00   12/08/2023        12:00   \n",
       "1  52  12/08/2023       14:00   17/08/2023        14:00   \n",
       "2  53  19/08/2023       14:00   23/08/2023        08:00   \n",
       "3  54  24/08/2023       11:00   06/09/2023        11:00   \n",
       "4  55  22/09/2023       22:00   20/10/2023        19:00   \n",
       "\n",
       "                     Vehicle Pickup_Location DropOff_Location  \\\n",
       "0  Honda HR/V RS HYBRID 2023             NaN              NaN   \n",
       "1     Toyota Yaris Ativ 2023             NaN              NaN   \n",
       "2          Toyota Veloz 2023           Rawai            Rawai   \n",
       "3          Toyota Veloz 2023           Rawai            Rawai   \n",
       "4     Toyota Yaris Ativ 2023  Phuket Airport   Phuket Airport   \n",
       "\n",
       "               Name                     Email         Phone  \\\n",
       "0  Nadiia Malanchii                       NaN  6.661916e+10   \n",
       "1  Nadiia Malanchii                       NaN  6.661916e+10   \n",
       "2       Ankit Nayar     Nayar.ankit@gmail.com  9.199234e+11   \n",
       "3     Dawid Śremski  dawid.sremski@icloud.com  4.850402e+10   \n",
       "4     Roman Loginov       qwertys40@yandex.ru  3.752592e+11   \n",
       "\n",
       "                                     Flight_or_Hotel   Age Driving Area  \\\n",
       "0                                                NaN  35.0          NaN   \n",
       "1                                                NaN   NaN          NaN   \n",
       "2  Soi Kokyang, Tambon Rawai, Chang Wat Phuket 83...  35.0          NaN   \n",
       "3  12 Soi Yanuy Villa, Tambon Rawai, Chang Wat Ph...  31.0          NaN   \n",
       "4                                              MU260  42.0          NaN   \n",
       "\n",
       "      Total  \n",
       "0   7000.00  \n",
       "1   3500.00  \n",
       "2   5080.00  \n",
       "3  13480.00  \n",
       "4  18920.00  "
      ]
     },
     "execution_count": 2,
     "metadata": {},
     "output_type": "execute_result"
    }
   ],
   "source": [
    "df = pd.read_csv(\"../data/vikar_orders.csv\")\n",
    "df.head()"
   ]
  },
  {
   "cell_type": "code",
   "execution_count": 3,
   "metadata": {},
   "outputs": [
    {
     "data": {
      "text/plain": [
       "(281, 15)"
      ]
     },
     "execution_count": 3,
     "metadata": {},
     "output_type": "execute_result"
    }
   ],
   "source": [
    "df.shape"
   ]
  },
  {
   "cell_type": "markdown",
   "metadata": {},
   "source": [
    "## Data Cleaning"
   ]
  },
  {
   "cell_type": "markdown",
   "metadata": {},
   "source": [
    "Remove all the features with more than 40% missing values. "
   ]
  },
  {
   "cell_type": "code",
   "execution_count": 4,
   "metadata": {},
   "outputs": [
    {
     "name": "stdout",
     "output_type": "stream",
     "text": [
      "[]\n"
     ]
    }
   ],
   "source": [
    "nullFeatures = []\n",
    "for col in df.columns:\n",
    "    nullSum = df[col].isnull().sum()\n",
    "    nullPer = nullSum/df.shape[0]\n",
    "    if nullPer>0.4:\n",
    "        print(f\"{col}: {nullPer*100:.2f}%\")\n",
    "        nullFeatures.append(col)\n",
    "print(nullFeatures)"
   ]
  },
  {
   "cell_type": "markdown",
   "metadata": {},
   "source": [
    "There are no features in the dataset that exceeds the threshold of missing values, hence we omit no colums from the dataset at this stage."
   ]
  },
  {
   "cell_type": "markdown",
   "metadata": {},
   "source": [
    "Further, we will remove variables unrelated to the models training, such as ID, Payment Method, and Order Status"
   ]
  },
  {
   "cell_type": "code",
   "execution_count": 5,
   "metadata": {},
   "outputs": [
    {
     "data": {
      "text/html": [
       "<div>\n",
       "<style scoped>\n",
       "    .dataframe tbody tr th:only-of-type {\n",
       "        vertical-align: middle;\n",
       "    }\n",
       "\n",
       "    .dataframe tbody tr th {\n",
       "        vertical-align: top;\n",
       "    }\n",
       "\n",
       "    .dataframe thead th {\n",
       "        text-align: right;\n",
       "    }\n",
       "</style>\n",
       "<table border=\"1\" class=\"dataframe\">\n",
       "  <thead>\n",
       "    <tr style=\"text-align: right;\">\n",
       "      <th></th>\n",
       "      <th>Pickup_Date</th>\n",
       "      <th>Pickup_Time</th>\n",
       "      <th>DropOff_Date</th>\n",
       "      <th>DropOff_Time</th>\n",
       "      <th>Vehicle</th>\n",
       "      <th>Pickup_Location</th>\n",
       "      <th>DropOff_Location</th>\n",
       "      <th>Name</th>\n",
       "      <th>Email</th>\n",
       "      <th>Phone</th>\n",
       "      <th>Flight_or_Hotel</th>\n",
       "      <th>Age</th>\n",
       "      <th>Driving Area</th>\n",
       "      <th>Total</th>\n",
       "    </tr>\n",
       "  </thead>\n",
       "  <tbody>\n",
       "    <tr>\n",
       "      <th>0</th>\n",
       "      <td>07/08/2023</td>\n",
       "      <td>12:00</td>\n",
       "      <td>12/08/2023</td>\n",
       "      <td>12:00</td>\n",
       "      <td>Honda HR/V RS HYBRID 2023</td>\n",
       "      <td>NaN</td>\n",
       "      <td>NaN</td>\n",
       "      <td>Nadiia Malanchii</td>\n",
       "      <td>NaN</td>\n",
       "      <td>6.661916e+10</td>\n",
       "      <td>NaN</td>\n",
       "      <td>35.0</td>\n",
       "      <td>NaN</td>\n",
       "      <td>7000.00</td>\n",
       "    </tr>\n",
       "    <tr>\n",
       "      <th>1</th>\n",
       "      <td>12/08/2023</td>\n",
       "      <td>14:00</td>\n",
       "      <td>17/08/2023</td>\n",
       "      <td>14:00</td>\n",
       "      <td>Toyota Yaris Ativ 2023</td>\n",
       "      <td>NaN</td>\n",
       "      <td>NaN</td>\n",
       "      <td>Nadiia Malanchii</td>\n",
       "      <td>NaN</td>\n",
       "      <td>6.661916e+10</td>\n",
       "      <td>NaN</td>\n",
       "      <td>NaN</td>\n",
       "      <td>NaN</td>\n",
       "      <td>3500.00</td>\n",
       "    </tr>\n",
       "    <tr>\n",
       "      <th>2</th>\n",
       "      <td>19/08/2023</td>\n",
       "      <td>14:00</td>\n",
       "      <td>23/08/2023</td>\n",
       "      <td>08:00</td>\n",
       "      <td>Toyota Veloz 2023</td>\n",
       "      <td>Rawai</td>\n",
       "      <td>Rawai</td>\n",
       "      <td>Ankit Nayar</td>\n",
       "      <td>Nayar.ankit@gmail.com</td>\n",
       "      <td>9.199234e+11</td>\n",
       "      <td>Soi Kokyang, Tambon Rawai, Chang Wat Phuket 83...</td>\n",
       "      <td>35.0</td>\n",
       "      <td>NaN</td>\n",
       "      <td>5080.00</td>\n",
       "    </tr>\n",
       "    <tr>\n",
       "      <th>3</th>\n",
       "      <td>24/08/2023</td>\n",
       "      <td>11:00</td>\n",
       "      <td>06/09/2023</td>\n",
       "      <td>11:00</td>\n",
       "      <td>Toyota Veloz 2023</td>\n",
       "      <td>Rawai</td>\n",
       "      <td>Rawai</td>\n",
       "      <td>Dawid Śremski</td>\n",
       "      <td>dawid.sremski@icloud.com</td>\n",
       "      <td>4.850402e+10</td>\n",
       "      <td>12 Soi Yanuy Villa, Tambon Rawai, Chang Wat Ph...</td>\n",
       "      <td>31.0</td>\n",
       "      <td>NaN</td>\n",
       "      <td>13480.00</td>\n",
       "    </tr>\n",
       "    <tr>\n",
       "      <th>4</th>\n",
       "      <td>22/09/2023</td>\n",
       "      <td>22:00</td>\n",
       "      <td>20/10/2023</td>\n",
       "      <td>19:00</td>\n",
       "      <td>Toyota Yaris Ativ 2023</td>\n",
       "      <td>Phuket Airport</td>\n",
       "      <td>Phuket Airport</td>\n",
       "      <td>Roman Loginov</td>\n",
       "      <td>qwertys40@yandex.ru</td>\n",
       "      <td>3.752592e+11</td>\n",
       "      <td>MU260</td>\n",
       "      <td>42.0</td>\n",
       "      <td>NaN</td>\n",
       "      <td>18920.00</td>\n",
       "    </tr>\n",
       "  </tbody>\n",
       "</table>\n",
       "</div>"
      ],
      "text/plain": [
       "  Pickup_Date Pickup_Time DropOff_Date DropOff_Time  \\\n",
       "0  07/08/2023       12:00   12/08/2023        12:00   \n",
       "1  12/08/2023       14:00   17/08/2023        14:00   \n",
       "2  19/08/2023       14:00   23/08/2023        08:00   \n",
       "3  24/08/2023       11:00   06/09/2023        11:00   \n",
       "4  22/09/2023       22:00   20/10/2023        19:00   \n",
       "\n",
       "                     Vehicle Pickup_Location DropOff_Location  \\\n",
       "0  Honda HR/V RS HYBRID 2023             NaN              NaN   \n",
       "1     Toyota Yaris Ativ 2023             NaN              NaN   \n",
       "2          Toyota Veloz 2023           Rawai            Rawai   \n",
       "3          Toyota Veloz 2023           Rawai            Rawai   \n",
       "4     Toyota Yaris Ativ 2023  Phuket Airport   Phuket Airport   \n",
       "\n",
       "               Name                     Email         Phone  \\\n",
       "0  Nadiia Malanchii                       NaN  6.661916e+10   \n",
       "1  Nadiia Malanchii                       NaN  6.661916e+10   \n",
       "2       Ankit Nayar     Nayar.ankit@gmail.com  9.199234e+11   \n",
       "3     Dawid Śremski  dawid.sremski@icloud.com  4.850402e+10   \n",
       "4     Roman Loginov       qwertys40@yandex.ru  3.752592e+11   \n",
       "\n",
       "                                     Flight_or_Hotel   Age Driving Area  \\\n",
       "0                                                NaN  35.0          NaN   \n",
       "1                                                NaN   NaN          NaN   \n",
       "2  Soi Kokyang, Tambon Rawai, Chang Wat Phuket 83...  35.0          NaN   \n",
       "3  12 Soi Yanuy Villa, Tambon Rawai, Chang Wat Ph...  31.0          NaN   \n",
       "4                                              MU260  42.0          NaN   \n",
       "\n",
       "      Total  \n",
       "0   7000.00  \n",
       "1   3500.00  \n",
       "2   5080.00  \n",
       "3  13480.00  \n",
       "4  18920.00  "
      ]
     },
     "execution_count": 5,
     "metadata": {},
     "output_type": "execute_result"
    }
   ],
   "source": [
    "df = df.drop([\"ID\"], axis = 1)\n",
    "df.head()"
   ]
  },
  {
   "cell_type": "markdown",
   "metadata": {},
   "source": [
    "## Recode Values"
   ]
  },
  {
   "cell_type": "markdown",
   "metadata": {},
   "source": [
    "Extract information about countries and searching platforms from Phone and Email columns"
   ]
  },
  {
   "cell_type": "code",
   "execution_count": 6,
   "metadata": {},
   "outputs": [],
   "source": [
    "df_copy = df.copy()\n",
    "phone_codes = {\"880\":\"BD\",\"258\":\"MZ\",\"1\":\"CA/US/UM\",\"20\":\"EG\",\"211\":\"SS\",\"212\":\"EH/MA\",\"213\":\"DZ\",\"216\":\"TN\",\"218\":\"LY\",\"220\":\"GM\",\"221\":\"SN\",\"222\":\"MR\",\"223\":\"ML\",\"224\":\"GN\",\"225\":\"CI\",\"226\":\"BF\",\"227\":\"NE\",\"228\":\"TG\",\"229\":\"BJ\",\"230\":\"MU\",\"231\":\"LR\",\"232\":\"SL\",\"233\":\"GH\",\"234\":\"NG\",\"235\":\"TD\",\"236\":\"CF\",\"237\":\"CM\",\"238\":\"CV\",\"239\":\"ST\",\"240\":\"GQ\",\"241\":\"GA\",\"242\":\"CG\",\"243\":\"CD\",\"244\":\"AO\",\"245\":\"GW\",\"246\":\"IO\",\"248\":\"SC\",\"249\":\"SD\",\"250\":\"RW\",\"251\":\"ET\",\"252\":\"SO\",\"253\":\"DJ\",\"254\":\"KE\",\"255\":\"TZ\",\"256\":\"UG\",\"257\":\"BI\",\"260\":\"ZM\",\"261\":\"MG\",\"262\":\"RE\",\"262\":\"YT\",\"263\":\"ZW\",\"264\":\"NA\",\"265\":\"MW\",\"266\":\"LS\",\"267\":\"BW\",\"268\":\"SZ\",\"269\":\"KM\",\"27\":\"ZA\",\"290\":\"SH\",\"291\":\"ER\",\"297\":\"AW\",\"298\":\"FO\",\"299\":\"GL\",\"30\":\"GR\",\"31\":\"NL\",\"32\":\"BE\",\"33\":\"FR\",\"34\":\"ES\",\"350\":\"GI\",\"351\":\"PT\",\"352\":\"LU\",\"353\":\"IE\",\"354\":\"IS\",\"355\":\"AL\",\"356\":\"MT\",\"357\":\"CY\",\"358\":\"FI\",\"359\":\"BG\",\"36\":\"HU\",\"370\":\"LT\",\"371\":\"LV\",\"372\":\"EE\",\"373\":\"MD\",\"374\":\"AM\",\"375\":\"BY\",\"376\":\"AD\",\"377\":\"MC\",\"378\":\"SM\",\"379\":\"VA\",\"380\":\"UA\",\"381\":\"RS\",\"382\":\"ME\",\"385\":\"HR\",\"386\":\"SI\",\"387\":\"BA\",\"389\":\"MK\",\"39\":\"IT\",\"40\":\"RO\",\"41\":\"CH\",\"420\":\"CZ\",\"421\":\"SK\",\"423\":\"LI\",\"43\":\"AT\",\"44\":\"GB\",\"45\":\"DK\",\"46\":\"SE\",\"47\":\"SJ/NO\",\"48\":\"PL\",\"49\":\"DE\",\"500\":\"FK\",\"501\":\"BZ\",\"502\":\"GT\",\"503\":\"SV\",\"504\":\"HN\",\"505\":\"NI\",\"506\":\"CR\",\"507\":\"PA\",\"508\":\"PM\",\"509\":\"HT\",\"51\":\"PE\",\"52\":\"MX\",\"53\":\"CU\",\"54\":\"AR\",\"55\":\"BR\",\"56\":\"CL\",\"57\":\"CO\",\"58\":\"VE\",\"590\":\"BL/GP/MF\",\"591\":\"BO\",\"592\":\"GY\",\"593\":\"EC\",\"594\":\"GF\",\"595\":\"PY\",\"596\":\"MQ\",\"597\":\"SR\",\"598\":\"UY\",\"599\":\"BQ/CW/SX\",\"60\":\"MY\",\"61\":\"CC/CX/AU\",\"62\":\"ID\",\"63\":\"PH\",\"64\":\"NZ\",\"65\":\"SG\",\"66\":\"TH\",\"670\":\"TL\",\"672\":\"NF\",\"673\":\"BN\",\"674\":\"NR\",\"675\":\"PG\",\"676\":\"TO\",\"677\":\"SB\",\"678\":\"VU\",\"679\":\"FJ\",\"680\":\"PW\",\"681\":\"WF\",\"682\":\"CK\",\"683\":\"NU\",\"685\":\"WS\",\"686\":\"KI\",\"687\":\"NC\",\"688\":\"TV\",\"689\":\"PF\",\"690\":\"TK\",\"691\":\"FM\",\"692\":\"MH\",\"7\":\"RU/KZ\",\"81\":\"JP\",\"82\":\"KR\",\"84\":\"VN\",\"850\":\"KP\",\"852\":\"HK\",\"853\":\"MO\",\"855\":\"KH\",\"856\":\"LA\",\"86\":\"CN\",\"870\":\"PN\",\"886\":\"TW\",\"90\":\"TR\",\"91\":\"IN\",\"92\":\"PK\",\"93\":\"AF\",\"94\":\"LK\",\"95\":\"MM\",\"960\":\"MV\",\"961\":\"LB\",\"962\":\"JO\",\"963\":\"SY\",\"964\":\"IQ\",\"965\":\"KW\",\"966\":\"SA\",\"967\":\"YE\",\"968\":\"OM\",\"970\":\"PS\",\"971\":\"AE\",\"972\":\"IL\",\"973\":\"BH\",\"974\":\"QA\",\"975\":\"BT\",\"976\":\"MN\",\"977\":\"NP\",\"98\":\"IR\",\"992\":\"TJ\",\"993\":\"TM\",\"994\":\"AZ\",\"995\":\"GE\",\"996\":\"KG\",\"998\":\"UZ\"}"
   ]
  },
  {
   "cell_type": "code",
   "execution_count": 7,
   "metadata": {},
   "outputs": [],
   "source": [
    "df_copy[\"Phone\"] = df_copy[\"Phone\"].astype(str)\n",
    "df_copy['Phone_normalized'] = df_copy['Phone'].str.replace(r'\\D', '')\n",
    "df_copy['Phone_normalized'] = df_copy['Phone_normalized'].str.replace(r'^0+', '')"
   ]
  },
  {
   "cell_type": "code",
   "execution_count": 8,
   "metadata": {},
   "outputs": [],
   "source": [
    "df_copy['Country_code'] = df_copy['Phone_normalized'].apply(lambda x: x[:3]).astype(str)\n",
    "df_copy[\"Country\"] = df_copy['Country_code'].map(phone_codes)\n",
    "df_count_3 = df_copy[df_copy['Country'].notna()]\n",
    "\n",
    "common_rows = df_copy.merge(df_count_3)\n",
    "df_copy =df_copy.drop(common_rows.index).reset_index(drop=True)\n",
    "\n"
   ]
  },
  {
   "cell_type": "code",
   "execution_count": 9,
   "metadata": {},
   "outputs": [],
   "source": [
    "df_copy['Country_code'] = df_copy['Phone_normalized'].apply(lambda x: x[:2]).astype(str) \n",
    "df_copy[\"Country\"] = df_copy['Country_code'].map(phone_codes)\n",
    "df_count_2 = df_copy[df_copy['Country'].notna()]\n",
    "\n",
    "common_rows_2 = df_copy.merge(df_count_2)\n",
    "df_copy =df_copy.drop(common_rows_2.index).reset_index(drop=True)\n"
   ]
  },
  {
   "cell_type": "code",
   "execution_count": 10,
   "metadata": {},
   "outputs": [],
   "source": [
    "df_copy['Country_code'] = df_copy['Phone_normalized'].apply(lambda x: x[:1]).astype(str) \n",
    "df_copy[\"Country\"] = df_copy['Country_code'].map(phone_codes)\n",
    "df_count_1 = df_copy[df_copy['Country'].notna()]\n",
    "\n",
    "common_rows_1 = df_copy.merge(df_count_1)\n",
    "df_copy =df_copy.drop(common_rows_1.index).reset_index(drop=True)"
   ]
  },
  {
   "cell_type": "code",
   "execution_count": 11,
   "metadata": {},
   "outputs": [
    {
     "data": {
      "text/plain": [
       "(281, 17)"
      ]
     },
     "execution_count": 11,
     "metadata": {},
     "output_type": "execute_result"
    }
   ],
   "source": [
    "combined_df = pd.concat([df_count_1, df_count_2, df_count_3, df_copy], axis=0).reset_index(drop=True)\n",
    "\n",
    "combined_df.shape\n"
   ]
  },
  {
   "cell_type": "code",
   "execution_count": 12,
   "metadata": {},
   "outputs": [],
   "source": [
    "combined_df['Pickup_Date'] = pd.to_datetime(     combined_df['Pickup_Date'], format='%d/%m/%Y')\n",
    "combined_df['DropOff_Date'] = pd.to_datetime(    combined_df['DropOff_Date'], format='%d/%m/%Y')\n",
    "combined_df['Pickup_Time'] = pd.to_datetime(     combined_df['Pickup_Time'], format='%H:%M').dt.time\n",
    "combined_df['DropOff_Time'] = pd.to_datetime(    combined_df['DropOff_Time'], format='%H:%M').dt.time\n",
    "combined_df['Pickup_Datetime'] = pd.to_datetime( combined_df['Pickup_Date'].astype(str) + ' ' +  combined_df['Pickup_Time'].astype(str))\n",
    "combined_df['DropOff_Datetime'] = pd.to_datetime(combined_df['DropOff_Date'].astype(str) + ' ' + combined_df['DropOff_Time'].astype(str))\n",
    "combined_df['Rental_Duration'] =       combined_df['DropOff_Datetime'] - combined_df['Pickup_Datetime']\n",
    "combined_df['Rental_Duration_Days'] =  combined_df['Rental_Duration'].dt.days"
   ]
  },
  {
   "cell_type": "code",
   "execution_count": 13,
   "metadata": {},
   "outputs": [
    {
     "data": {
      "text/html": [
       "<div>\n",
       "<style scoped>\n",
       "    .dataframe tbody tr th:only-of-type {\n",
       "        vertical-align: middle;\n",
       "    }\n",
       "\n",
       "    .dataframe tbody tr th {\n",
       "        vertical-align: top;\n",
       "    }\n",
       "\n",
       "    .dataframe thead th {\n",
       "        text-align: right;\n",
       "    }\n",
       "</style>\n",
       "<table border=\"1\" class=\"dataframe\">\n",
       "  <thead>\n",
       "    <tr style=\"text-align: right;\">\n",
       "      <th></th>\n",
       "      <th>Pickup_Date</th>\n",
       "      <th>Pickup_Time</th>\n",
       "      <th>DropOff_Date</th>\n",
       "      <th>DropOff_Time</th>\n",
       "      <th>Vehicle</th>\n",
       "      <th>Pickup_Location</th>\n",
       "      <th>DropOff_Location</th>\n",
       "      <th>Age</th>\n",
       "      <th>Driving Area</th>\n",
       "      <th>Total</th>\n",
       "      <th>Country</th>\n",
       "      <th>Rental_Duration_Days</th>\n",
       "    </tr>\n",
       "  </thead>\n",
       "  <tbody>\n",
       "    <tr>\n",
       "      <th>0</th>\n",
       "      <td>2024-04-11</td>\n",
       "      <td>12:00:00</td>\n",
       "      <td>2024-04-16</td>\n",
       "      <td>18:00:00</td>\n",
       "      <td>Toyota Yaris Hatchback 2022</td>\n",
       "      <td>Mai Khao</td>\n",
       "      <td>Mai Khao</td>\n",
       "      <td>39.0</td>\n",
       "      <td>Phuket only</td>\n",
       "      <td>6520.0</td>\n",
       "      <td>RU/KZ</td>\n",
       "      <td>5</td>\n",
       "    </tr>\n",
       "    <tr>\n",
       "      <th>1</th>\n",
       "      <td>2024-03-27</td>\n",
       "      <td>10:00:00</td>\n",
       "      <td>2024-04-02</td>\n",
       "      <td>10:00:00</td>\n",
       "      <td>Toyota Yaris Ativ 2023</td>\n",
       "      <td>Bangtao</td>\n",
       "      <td>Phuket Airport</td>\n",
       "      <td>NaN</td>\n",
       "      <td>NaN</td>\n",
       "      <td>7620.0</td>\n",
       "      <td>RU/KZ</td>\n",
       "      <td>6</td>\n",
       "    </tr>\n",
       "    <tr>\n",
       "      <th>2</th>\n",
       "      <td>2024-03-22</td>\n",
       "      <td>22:30:00</td>\n",
       "      <td>2024-03-30</td>\n",
       "      <td>12:00:00</td>\n",
       "      <td>Toyota Yaris Ativ 2023</td>\n",
       "      <td>Phuket Airport</td>\n",
       "      <td>Phuket Airport</td>\n",
       "      <td>40.0</td>\n",
       "      <td>Phuket only</td>\n",
       "      <td>8300.0</td>\n",
       "      <td>RU/KZ</td>\n",
       "      <td>7</td>\n",
       "    </tr>\n",
       "    <tr>\n",
       "      <th>3</th>\n",
       "      <td>2024-03-23</td>\n",
       "      <td>09:00:00</td>\n",
       "      <td>2024-03-25</td>\n",
       "      <td>18:00:00</td>\n",
       "      <td>Toyota Yaris Ativ 2023</td>\n",
       "      <td>Kata</td>\n",
       "      <td>Kata</td>\n",
       "      <td>56.0</td>\n",
       "      <td>Phuket only</td>\n",
       "      <td>4360.0</td>\n",
       "      <td>RU/KZ</td>\n",
       "      <td>2</td>\n",
       "    </tr>\n",
       "    <tr>\n",
       "      <th>4</th>\n",
       "      <td>2024-06-29</td>\n",
       "      <td>18:20:00</td>\n",
       "      <td>2024-07-31</td>\n",
       "      <td>06:00:00</td>\n",
       "      <td>Toyota Veloz 2023</td>\n",
       "      <td>Phuket Airport</td>\n",
       "      <td>Phuket Airport</td>\n",
       "      <td>47.0</td>\n",
       "      <td>Phuket only</td>\n",
       "      <td>29420.0</td>\n",
       "      <td>RU/KZ</td>\n",
       "      <td>31</td>\n",
       "    </tr>\n",
       "  </tbody>\n",
       "</table>\n",
       "</div>"
      ],
      "text/plain": [
       "  Pickup_Date Pickup_Time DropOff_Date DropOff_Time  \\\n",
       "0  2024-04-11    12:00:00   2024-04-16     18:00:00   \n",
       "1  2024-03-27    10:00:00   2024-04-02     10:00:00   \n",
       "2  2024-03-22    22:30:00   2024-03-30     12:00:00   \n",
       "3  2024-03-23    09:00:00   2024-03-25     18:00:00   \n",
       "4  2024-06-29    18:20:00   2024-07-31     06:00:00   \n",
       "\n",
       "                       Vehicle Pickup_Location DropOff_Location   Age  \\\n",
       "0  Toyota Yaris Hatchback 2022        Mai Khao         Mai Khao  39.0   \n",
       "1       Toyota Yaris Ativ 2023         Bangtao   Phuket Airport   NaN   \n",
       "2       Toyota Yaris Ativ 2023  Phuket Airport   Phuket Airport  40.0   \n",
       "3       Toyota Yaris Ativ 2023            Kata             Kata  56.0   \n",
       "4            Toyota Veloz 2023  Phuket Airport   Phuket Airport  47.0   \n",
       "\n",
       "  Driving Area    Total Country  Rental_Duration_Days  \n",
       "0  Phuket only   6520.0   RU/KZ                     5  \n",
       "1          NaN   7620.0   RU/KZ                     6  \n",
       "2  Phuket only   8300.0   RU/KZ                     7  \n",
       "3  Phuket only   4360.0   RU/KZ                     2  \n",
       "4  Phuket only  29420.0   RU/KZ                    31  "
      ]
     },
     "execution_count": 13,
     "metadata": {},
     "output_type": "execute_result"
    }
   ],
   "source": [
    "df = combined_df.drop([\"Name\",\"Phone\", \"Email\", \"Flight_or_Hotel\", \"Phone_normalized\", \"Country_code\", 'Pickup_Datetime', 'DropOff_Datetime','Rental_Duration'], axis = 1)\n",
    "df[\"Age\"] = df[\"Age\"].astype(float)\n",
    "df[\"Total\"] = df[\"Total\"].astype(float)\n",
    "df.head()"
   ]
  },
  {
   "cell_type": "markdown",
   "metadata": {},
   "source": [
    "## Handling null Values"
   ]
  },
  {
   "cell_type": "markdown",
   "metadata": {},
   "source": [
    "All null values for categorical attributes would be renamed as \"Unknown\""
   ]
  },
  {
   "cell_type": "code",
   "execution_count": 14,
   "metadata": {},
   "outputs": [
    {
     "name": "stdout",
     "output_type": "stream",
     "text": [
      "Pickup_Location     13\n",
      "DropOff_Location    13\n",
      "Driving Area        72\n",
      "Country             72\n",
      "dtype: int64\n"
     ]
    }
   ],
   "source": [
    "categorical = df.select_dtypes(\"object\")\n",
    "null_count_cat = categorical.isnull().sum()\n",
    "print(null_count_cat[null_count_cat > 0])"
   ]
  },
  {
   "cell_type": "code",
   "execution_count": 15,
   "metadata": {},
   "outputs": [
    {
     "data": {
      "text/plain": [
       "Pickup_Time         0\n",
       "DropOff_Time        0\n",
       "Vehicle             0\n",
       "Pickup_Location     0\n",
       "DropOff_Location    0\n",
       "Driving Area        0\n",
       "Country             0\n",
       "dtype: int64"
      ]
     },
     "execution_count": 15,
     "metadata": {},
     "output_type": "execute_result"
    }
   ],
   "source": [
    "categorical = categorical.fillna(\"Unknown\")\n",
    "categorical.isnull().sum()"
   ]
  },
  {
   "cell_type": "code",
   "execution_count": 16,
   "metadata": {},
   "outputs": [
    {
     "name": "stdout",
     "output_type": "stream",
     "text": [
      "Age    40\n",
      "dtype: int64\n"
     ]
    }
   ],
   "source": [
    "df = df.drop(categorical, axis=1)\n",
    "null_count_num = df.isnull().sum()\n",
    "\n",
    "print(null_count_num[null_count_num > 0])"
   ]
  },
  {
   "cell_type": "code",
   "execution_count": 17,
   "metadata": {},
   "outputs": [
    {
     "data": {
      "image/png": "[encoded data removed]",
      "text/plain": [
       "<Figure size 1500x2000 with 6 Axes>"
      ]
     },
     "metadata": {},
     "output_type": "display_data"
    }
   ],
   "source": [
    "df.hist(figsize=(15, 20), bins=30)\n",
    "plt.show()"
   ]
  },
  {
   "cell_type": "code",
   "execution_count": 18,
   "metadata": {},
   "outputs": [
    {
     "name": "stdout",
     "output_type": "stream",
     "text": [
      "Series([], dtype: int64)\n"
     ]
    }
   ],
   "source": [
    "df = df.fillna(df.median())\n",
    "null_count_num = df.isnull().sum()\n",
    "print(null_count_num[null_count_num > 0])"
   ]
  },
  {
   "cell_type": "markdown",
   "metadata": {},
   "source": [
    "Now encode categorical variables with Label Encoder"
   ]
  },
  {
   "cell_type": "code",
   "execution_count": 19,
   "metadata": {},
   "outputs": [
    {
     "data": {
      "text/html": [
       "<div>\n",
       "<style scoped>\n",
       "    .dataframe tbody tr th:only-of-type {\n",
       "        vertical-align: middle;\n",
       "    }\n",
       "\n",
       "    .dataframe tbody tr th {\n",
       "        vertical-align: top;\n",
       "    }\n",
       "\n",
       "    .dataframe thead th {\n",
       "        text-align: right;\n",
       "    }\n",
       "</style>\n",
       "<table border=\"1\" class=\"dataframe\">\n",
       "  <thead>\n",
       "    <tr style=\"text-align: right;\">\n",
       "      <th></th>\n",
       "      <th>Pickup_Time</th>\n",
       "      <th>DropOff_Time</th>\n",
       "      <th>Vehicle</th>\n",
       "      <th>Pickup_Location</th>\n",
       "      <th>DropOff_Location</th>\n",
       "      <th>Driving Area</th>\n",
       "      <th>Country</th>\n",
       "    </tr>\n",
       "  </thead>\n",
       "  <tbody>\n",
       "    <tr>\n",
       "      <th>0</th>\n",
       "      <td>15</td>\n",
       "      <td>27</td>\n",
       "      <td>4</td>\n",
       "      <td>5</td>\n",
       "      <td>5</td>\n",
       "      <td>0</td>\n",
       "      <td>25</td>\n",
       "    </tr>\n",
       "    <tr>\n",
       "      <th>1</th>\n",
       "      <td>9</td>\n",
       "      <td>13</td>\n",
       "      <td>3</td>\n",
       "      <td>0</td>\n",
       "      <td>11</td>\n",
       "      <td>1</td>\n",
       "      <td>25</td>\n",
       "    </tr>\n",
       "    <tr>\n",
       "      <th>2</th>\n",
       "      <td>36</td>\n",
       "      <td>17</td>\n",
       "      <td>3</td>\n",
       "      <td>11</td>\n",
       "      <td>11</td>\n",
       "      <td>0</td>\n",
       "      <td>25</td>\n",
       "    </tr>\n",
       "    <tr>\n",
       "      <th>3</th>\n",
       "      <td>7</td>\n",
       "      <td>27</td>\n",
       "      <td>3</td>\n",
       "      <td>4</td>\n",
       "      <td>4</td>\n",
       "      <td>0</td>\n",
       "      <td>25</td>\n",
       "    </tr>\n",
       "    <tr>\n",
       "      <th>4</th>\n",
       "      <td>28</td>\n",
       "      <td>3</td>\n",
       "      <td>1</td>\n",
       "      <td>11</td>\n",
       "      <td>11</td>\n",
       "      <td>0</td>\n",
       "      <td>25</td>\n",
       "    </tr>\n",
       "  </tbody>\n",
       "</table>\n",
       "</div>"
      ],
      "text/plain": [
       "   Pickup_Time  DropOff_Time  Vehicle  Pickup_Location  DropOff_Location  \\\n",
       "0           15            27        4                5                 5   \n",
       "1            9            13        3                0                11   \n",
       "2           36            17        3               11                11   \n",
       "3            7            27        3                4                 4   \n",
       "4           28             3        1               11                11   \n",
       "\n",
       "   Driving Area  Country  \n",
       "0             0       25  \n",
       "1             1       25  \n",
       "2             0       25  \n",
       "3             0       25  \n",
       "4             0       25  "
      ]
     },
     "execution_count": 19,
     "metadata": {},
     "output_type": "execute_result"
    }
   ],
   "source": [
    "from sklearn.preprocessing import LabelEncoder\n",
    "\n",
    "label_encoder = LabelEncoder()\n",
    "for col in categorical.columns:\n",
    "    categorical[col] = label_encoder.fit_transform(categorical[col])\n",
    " \n",
    "categorical.head()"
   ]
  },
  {
   "cell_type": "code",
   "execution_count": 20,
   "metadata": {},
   "outputs": [
    {
     "data": {
      "text/plain": [
       "(281, 12)"
      ]
     },
     "execution_count": 20,
     "metadata": {},
     "output_type": "execute_result"
    }
   ],
   "source": [
    "df = df.join(categorical)\n",
    "df.shape"
   ]
  },
  {
   "cell_type": "code",
   "execution_count": 21,
   "metadata": {},
   "outputs": [],
   "source": [
    "# save dataset that is ready for model training\n",
    "df.to_csv('../data/vikar_preprocessed.csv',index=False)"
   ]
  }
 ],
 "metadata": {
  "kernelspec": {
   "display_name": "myenv",
   "language": "python",
   "name": "python3"
  },
  "language_info": {
   "codemirror_mode": {
    "name": "ipython",
    "version": 3
   },
   "file_extension": ".py",
   "mimetype": "text/x-python",
   "name": "python",
   "nbconvert_exporter": "python",
   "pygments_lexer": "ipython3",
   "version": "3.9.19"
  }
 },
 "nbformat": 4,
 "nbformat_minor": 2
}
